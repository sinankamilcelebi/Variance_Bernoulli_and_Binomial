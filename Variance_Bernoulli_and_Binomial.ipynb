{
 "cells": [
  {
   "cell_type": "markdown",
   "metadata": {},
   "source": [
    "* @file     : Variance_Bernoulli_and_Binomial.ipynb\n",
    "* @author   : Sinan KAMILCELEBI\n",
    "* @version  : V1.0.0\n",
    "* @date     : 23-May-2019\n",
    "* @brief    : The discrete uniform special probability distributions. Variance, Bernoulli and Binomial Example."
   ]
  },
  {
   "cell_type": "code",
   "execution_count": 1,
   "metadata": {},
   "outputs": [],
   "source": [
    "import numpy as np\n",
    "import matplotlib.pyplot as plt\n",
    "import seaborn as sb\n",
    "import scipy.stats as stats\n",
    "from math import sqrt\n",
    "from scipy.stats import binom"
   ]
  },
  {
   "cell_type": "markdown",
   "metadata": {},
   "source": [
    "## I - Varyans\n",
    "\n",
    "__Örnek Soru:__\n",
    "\n",
    "X rassal değişkeni bir üretim sürecindeki kusurlu parça sayısını göstermektedir. Kusurlu sayıları ve bunların olasılıkları aşağıda verilmiştir.\n",
    "\n",
    "<p align = \"center\">\n",
    "<img src = \"variance_question_table.jpg\" alt = \"Variance Question Table\" title = \"Variance Question Table\" width = \"600\" height = \"150\" />\n",
    "</p>\n",
    "\n",
    "<b>A)</b> Ortalama kusurlu parça sayısını bulunuz?   \n",
    "\n",
    "<b>B)</b> Kusurlu sayısının varyansını bulunuz?\n",
    "\n",
    "<b>C)</b> Standart sapmayı bulunuz?\n",
    "\n",
    "__Açıklamalar:__\n",
    "\n",
    "> Ortalaması 𝛍 olan rastgele X değişkeninin varyansı ve standart sapması (Varyansın pozitif karekökü):\n",
    "\n",
    "<p align = \"center\">\n",
    "<img src = \"variance_function.jpg\" alt = \"Variance Function\" title = \"Variance Function\" width = \"600\" height = \"350\" />\n",
    "</p>"
   ]
  },
  {
   "cell_type": "markdown",
   "metadata": {},
   "source": [
    "### Örnek Soru:\n",
    "<b>A)</b> Ortalama kusurlu parça sayısını bulunuz? "
   ]
  },
  {
   "cell_type": "code",
   "execution_count": 2,
   "metadata": {},
   "outputs": [
    {
     "name": "stdout",
     "output_type": "stream",
     "text": [
      "\n",
      "Ortalama kusurlu parça sayısı, u = Sum(x * p(x)) = 0.61\n"
     ]
    }
   ],
   "source": [
    "u = 0 * (0.51) + 1 * (0.38) + 2 * (0.10) + 3 * (0.01)\n",
    "print(\"\\nOrtalama kusurlu parça sayısı, u = Sum(x * p(x)) =\", round(u, 2))"
   ]
  },
  {
   "cell_type": "markdown",
   "metadata": {},
   "source": [
    "### Örnek Soru:\n",
    "<b>B)</b> Kusurlu sayısının varyansını bulunuz? "
   ]
  },
  {
   "cell_type": "code",
   "execution_count": 3,
   "metadata": {},
   "outputs": [
    {
     "name": "stdout",
     "output_type": "stream",
     "text": [
      "\n",
      "B[X ^ 2] = Sum(x ^ 2 * p(x)) = 0.87\n",
      "\n",
      "Kusurlu sayısının varyansı (B[X ^ 2] - u ^ 2) 0.5 dir.\n"
     ]
    }
   ],
   "source": [
    "B_X_SQ = 0 * 0 * (0.51) + 1 * 1 * (0.38) + 2 * 2 * (0.10) + 3 * 3 * (0.01)\n",
    "\n",
    "print(\"\\nB[X ^ 2] = Sum(x ^ 2 * p(x)) =\", round(B_X_SQ, 2))\n",
    "\n",
    "Varx = B_X_SQ - u * u\n",
    "\n",
    "print(\"\\nKusurlu sayısının varyansı (B[X ^ 2] - u ^ 2)\", round(Varx, 2), \"dir.\")"
   ]
  },
  {
   "cell_type": "markdown",
   "metadata": {},
   "source": [
    "### Örnek Soru:\n",
    "<b>C)</b> Standart sapmayı bulunuz? "
   ]
  },
  {
   "cell_type": "code",
   "execution_count": 4,
   "metadata": {},
   "outputs": [
    {
     "name": "stdout",
     "output_type": "stream",
     "text": [
      "\n",
      "Standart sapma = Karekök(Var(x))\n",
      "\n",
      "Standart sapma = 0.705620294492725\n"
     ]
    }
   ],
   "source": [
    "print(\"\\nStandart sapma = Karekök(Var(x))\")\n",
    "\n",
    "print(\"\\nStandart sapma =\", sqrt(Varx))"
   ]
  },
  {
   "cell_type": "markdown",
   "metadata": {},
   "source": [
    "## II - Bernoulli Olasılık Dağılımı\n",
    "\n",
    "__Örnek Soru:__\n",
    "\n",
    "Bir öğrenci \"Ayrık Sistemler için İleri Olasılık\" dersinden geçme olasılığının 0.7 olduğuna inanmaktadır.  \n",
    "\n",
    "<b>A)</b> Olasılık dağılımının fonksiyonunu yazınız?\n",
    "\n",
    "<b>B)</b> Ortalamasını ve varyansını bulunuz?\n",
    "\n",
    "__Açıklamalar:__   \n",
    "\n",
    "> Bernoulli dağılımının olasılık fonksiyonu:\n",
    "\n",
    ">> Olumlu/Başarılı/Hatasız: 1,   \n",
    ">> Olumsuz/Başarısız/Hatalı: 0 olmak üzere,\n",
    "\n",
    ">> p: Bir deneyin olma olasılığı iken;   \n",
    ">> Başarı olasılığı: p, (0 < p < 1)   \n",
    ">> Başarısızlık olasılığı: 1 - p   \n",
    "\n",
    "<p align = \"center\">\n",
    "<img src = \"bernoulli_function.jpg\" alt = \"Bernoulli Function\" title = \"Bernoulli Function\" width = \"600\" height = \"200\" />\n",
    "</p>\n",
    "\n",
    "> Bernoulli rassal değişkeninin ortalaması (μx = E(x)) ve varyansı Var(X):    \n",
    "\n",
    "<p align = \"center\">\n",
    "<img src = \"bernoulli_average_and_variance_function.jpg\" alt = \"Bernoulli Average and Variance Function\" title = \"Bernoulli Average and Variance Function\" width = \"600\" height = \"200\" />\n",
    "</p>"
   ]
  },
  {
   "cell_type": "markdown",
   "metadata": {},
   "source": [
    "### Örnek Soru:\n",
    "<b>A)</b> Olasılık dağılımının fonksiyonunu yazınız? \n",
    "\n",
    "Öğrenci dersten geçerse X rassal değişkeni x = 1 ve kalırsa x = 0 değerini alırsa, X rassal değişkeninin olasılık dağılımı şöyle yazılabilir:\n",
    "\n",
    "P(x = 1) = 0.7 ve P(x = 0) = 0.3\n",
    "\n",
    "Olasılık dağılım fonksiyonu:\n",
    "\n",
    "<p align = \"center\">\n",
    "<img src = \"bernoulli_question_PDF.jpg\" alt = \"Bernoulli Question PDF\" title = \"Bernoulli Question PDF\" width = \"600\" height = \"75\" />\n",
    "</p>\n",
    "\n",
    "x’in alacağı 1 ve 0 değerlerine göre olasılık dağılımı aşağıdaki gibi bulunur."
   ]
  },
  {
   "cell_type": "code",
   "execution_count": 5,
   "metadata": {},
   "outputs": [
    {
     "name": "stdout",
     "output_type": "stream",
     "text": [
      "\n",
      "P(x = 1) = 0.7\n",
      "\n",
      "P(x = 0) = 0.3\n"
     ]
    }
   ],
   "source": [
    "print(\"\\nP(x = 1) =\", pow(0.7, 1) * pow(0.3, 0))\n",
    "print(\"\\nP(x = 0) =\", pow(0.7, 0) * pow(0.3, 1))"
   ]
  },
  {
   "cell_type": "markdown",
   "metadata": {},
   "source": [
    "### Örnek Soru:\n",
    "<b>B)</b> Ortalamasını ve varyansını bulunuz?\n",
    "\n",
    "> Ortalaması: μx = E(X) = p = 0.7"
   ]
  },
  {
   "cell_type": "code",
   "execution_count": 6,
   "metadata": {},
   "outputs": [
    {
     "name": "stdout",
     "output_type": "stream",
     "text": [
      "\n",
      "Varyans = 0.21\n"
     ]
    }
   ],
   "source": [
    "print(\"\\nVaryans =\", pow(0.7, 1) * pow(0.3, 0) * pow(0.7, 0) * pow(0.3, 1))"
   ]
  },
  {
   "cell_type": "markdown",
   "metadata": {},
   "source": [
    "## III - Binom Dağılımı (Bernoulli Experiment)\n",
    "\n",
    "__Örnek Soru - I:__   \n",
    "\n",
    "Bir elektrik parçasının şok testine dayanma olasılığı 4/3'tür.   \n",
    "\n",
    "<b>A)</b> Denenen 4 parçadan 2 tanesinin bu teste dayanma olasılığını bulunuz? \n",
    "\n",
    "<b>B)</b> Denenen 4 parçadan en az 2 tanesinin bu teste dayanma olasılığını bulunuz?  \n",
    "\n",
    "<b>C)</b> Denenen 4 parçadan teste dayananların ortalamasını ve varyansını bulunuz?\n",
    "\n",
    "__Açıklamalar:__   \n",
    "\n",
    "> X rastgele değişkeninin binomial dağılımı: X ~ Bin(n, p)\n",
    "\n",
    "> Binom dağılımının olasılık fonksiyonu:\n",
    "\n",
    "<p align = \"center\">\n",
    "<img src = \"binomial_function.jpg\" alt = \"Binomial Function\" title = \"Binomial Function\" width = \"700\" height = \"150\" />\n",
    "</p>\n",
    "\n",
    "> Binom dağılımının ortalaması ve varyansı:\n",
    "\n",
    ">> Ortalaması: μx = E[X] = n.p   \n",
    ">> Varyansı: Var(X) = n.p.(1 - p) "
   ]
  },
  {
   "cell_type": "code",
   "execution_count": 7,
   "metadata": {},
   "outputs": [],
   "source": [
    "# Combination Calculate\n",
    "\n",
    "def Factorial_Calculate(i): \n",
    "    if (i == 1):       \n",
    "        return 1\n",
    "    else: \n",
    "        return i * Factorial_Calculate(i - 1)\n",
    "    \n",
    "def Combination_Calculate(j, k):\n",
    "    if (j < k):\n",
    "        print(\"\\nj < k\")\n",
    "   \n",
    "    elif (j == k):\n",
    "        print(\"1\")\n",
    "    elif (j > k):\n",
    "        #(n Faktöriyel)\n",
    "        s = 1\n",
    "        s = Factorial_Calculate(j) \n",
    "        #(m Faktöriyel)\n",
    "        l = 1\n",
    "        l = Factorial_Calculate(k) \n",
    "        #(n - m Faktöriyel)\n",
    "        f = 1\n",
    "        f = Factorial_Calculate(j - k) \n",
    "        w = s / (l * f)\n",
    "        return w"
   ]
  },
  {
   "cell_type": "code",
   "execution_count": 8,
   "metadata": {},
   "outputs": [],
   "source": [
    "n = 4\n",
    "p = 0.75"
   ]
  },
  {
   "cell_type": "markdown",
   "metadata": {},
   "source": [
    "### Örnek Soru:\n",
    "<b>A)</b> Denenen 4 parçadan 2 tanesinin bu teste dayanma olasılığını bulunuz? "
   ]
  },
  {
   "cell_type": "code",
   "execution_count": 9,
   "metadata": {},
   "outputs": [
    {
     "name": "stdout",
     "output_type": "stream",
     "text": [
      "\n",
      "X:4 parçadan teste dayananların sayısı ( n = 4 ) ve p = 0.75\n",
      "\n",
      "P(X = 2) = 0.2109375\n"
     ]
    }
   ],
   "source": [
    "print(\"\\nX:4 parçadan teste dayananların sayısı\", \"( n =\", n ,\")\", \"ve\", \"p =\", p)\n",
    "\n",
    "PX2 = Combination_Calculate(n, 2) * pow(p, 2) * pow((1 - p), (n - 2))\n",
    "\n",
    "print(\"\\nP(X = 2) =\", PX2)"
   ]
  },
  {
   "cell_type": "markdown",
   "metadata": {},
   "source": [
    "### Örnek Soru:\n",
    "<b>B)</b> Denenen 4 parçadan en az 2 tanesinin bu teste dayanma olasılığını bulunuz?"
   ]
  },
  {
   "cell_type": "code",
   "execution_count": 10,
   "metadata": {},
   "outputs": [
    {
     "name": "stdout",
     "output_type": "stream",
     "text": [
      "\n",
      "P(X >= 2) = P(X = 2) + P(X = 3) + P(X = 4)\n",
      "\n",
      "P(X >= 2) = 0.2109375 + 0.421875 + 0.31640625\n",
      "\n",
      "P(X >= 2) = 0.94921875\n"
     ]
    }
   ],
   "source": [
    "print(\"\\nP(X >= 2) = P(X = 2) + P(X = 3) + P(X = 4)\")\n",
    "\n",
    "PX3 = Combination_Calculate(n, 3) * pow(p, 3) * pow((1 - p), (n - 3))\n",
    "\n",
    "PX4 = 1 * pow(p, n) * pow((1 - p), (n - 4))\n",
    "\n",
    "print(\"\\nP(X >= 2) =\", PX2, \"+\", PX3, \"+\", PX4)\n",
    "print(\"\\nP(X >= 2) =\", (PX2 + PX3 + PX4))"
   ]
  },
  {
   "cell_type": "markdown",
   "metadata": {},
   "source": [
    "### Örnek Soru:\n",
    "<b>C)</b> Denenen 4 parçadan teste dayananların ortalamasını ve varyansını bulunuz?"
   ]
  },
  {
   "cell_type": "code",
   "execution_count": 11,
   "metadata": {},
   "outputs": [
    {
     "name": "stdout",
     "output_type": "stream",
     "text": [
      "\n",
      "μ = B[X] = 3.0\n",
      "\n",
      "Varyans, Var(X) = 0.75\n"
     ]
    }
   ],
   "source": [
    "print(\"\\nμ = B[X] =\", (n * p))\n",
    "print(\"\\nVaryans, Var(X) =\", (n * p * (1 - p)))"
   ]
  },
  {
   "cell_type": "code",
   "execution_count": 12,
   "metadata": {},
   "outputs": [
    {
     "name": "stdout",
     "output_type": "stream",
     "text": [
      "\n",
      "Binom Olasılık Dağılımının Grafiği\n"
     ]
    },
    {
     "name": "stderr",
     "output_type": "stream",
     "text": [
      "C:\\Users\\Sinan\\Anaconda3\\lib\\site-packages\\scipy\\stats\\stats.py:1713: FutureWarning: Using a non-tuple sequence for multidimensional indexing is deprecated; use `arr[tuple(seq)]` instead of `arr[seq]`. In the future this will be interpreted as an array index, `arr[np.array(seq)]`, which will result either in an error or a different result.\n",
      "  return np.add.reduce(sorted[indexer] * weights, axis=axis) / sumval\n"
     ]
    },
    {
     "data": {
      "text/plain": [
       "[Text(0, 0.5, 'Frequency'), Text(0.5, 0, 'Binomial')]"
      ]
     },
     "execution_count": 12,
     "metadata": {},
     "output_type": "execute_result"
    },
    {
     "data": {
      "image/png": "[encoded data removed]",
      "text/plain": [
       "<Figure size 432x288 with 1 Axes>"
      ]
     },
     "metadata": {
      "needs_background": "light"
     },
     "output_type": "display_data"
    }
   ],
   "source": [
    "print(\"\\nBinom Olasılık Dağılımının Grafiği\")\n",
    "\n",
    "binom.rvs(size = 10, n = 4, p = 0.75)\n",
    "\n",
    "data_binom = binom.rvs(n = 4, p = 0.75, loc = 0 , size = 1000)\n",
    "ax = sb.distplot(data_binom, kde = True, color = 'blue', hist_kws = {\"linewidth\": 25, 'alpha':1})\n",
    "ax.set(xlabel ='Binomial', ylabel = 'Frequency')"
   ]
  },
  {
   "cell_type": "markdown",
   "metadata": {},
   "source": [
    "__Örnek Soru - II: (Banka Müşterileri)__ \n",
    "\n",
    "Bir banka Master Card programı kapsamında müşterilerine kredi kartı verir. Geçmiş verilere dayanarak, banka tüm hesapların %60'ının faturayı takip eden zamanında ödeme yaptığını buldu. Geçerli veritabanından rastgele 7 hesap örneği seçilirse, zamanında ödeme yapan hesapların Binom Olasılık Dağılımını oluşturunuz."
   ]
  },
  {
   "cell_type": "code",
   "execution_count": 13,
   "metadata": {},
   "outputs": [
    {
     "data": {
      "text/plain": [
       "array([0.0016384, 0.0188416, 0.096256 , 0.289792 , 0.580096 , 0.8413696,\n",
       "       0.9720064, 1.       ])"
      ]
     },
     "execution_count": 13,
     "metadata": {},
     "output_type": "execute_result"
    }
   ],
   "source": [
    "n_2 = 7\n",
    "p_2 = .6\n",
    "k = np.arange(0, 8)\n",
    "\n",
    "binomial = stats.binom.pmf(k, n_2, p_2)\n",
    "binomial1 = stats.binom.cdf(k, n_2, p_2)\n",
    "binomial1"
   ]
  },
  {
   "cell_type": "code",
   "execution_count": 14,
   "metadata": {},
   "outputs": [
    {
     "data": {
      "text/plain": [
       "array([0.0016384, 0.0172032, 0.0774144, 0.193536 , 0.290304 , 0.2612736,\n",
       "       0.1306368, 0.0279936])"
      ]
     },
     "execution_count": 14,
     "metadata": {},
     "output_type": "execute_result"
    }
   ],
   "source": [
    "binomial"
   ]
  },
  {
   "cell_type": "code",
   "execution_count": 15,
   "metadata": {},
   "outputs": [
    {
     "data": {
      "image/png": "[encoded data removed]",
      "text/plain": [
       "<Figure size 432x288 with 1 Axes>"
      ]
     },
     "metadata": {
      "needs_background": "light"
     },
     "output_type": "display_data"
    }
   ],
   "source": [
    "plt.plot(k, binomial, 'o-')\n",
    "plt.title('Binomial: n = %i, p = %.2f' % (n_2, p_2), fontsize = 15)\n",
    "plt.xlabel('Number of Successes')\n",
    "plt.ylabel('Probability of Successes')\n",
    "plt.show()"
   ]
  }
 ],
 "metadata": {
  "kernelspec": {
   "display_name": "Python 3",
   "language": "python",
   "name": "python3"
  },
  "language_info": {
   "codemirror_mode": {
    "name": "ipython",
    "version": 3
   },
   "file_extension": ".py",
   "mimetype": "text/x-python",
   "name": "python",
   "nbconvert_exporter": "python",
   "pygments_lexer": "ipython3",
   "version": "3.7.1"
  }
 },
 "nbformat": 4,
 "nbformat_minor": 2
}
